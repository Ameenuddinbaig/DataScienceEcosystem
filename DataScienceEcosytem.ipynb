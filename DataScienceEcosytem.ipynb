{
 "cells": [
  {
   "cell_type": "markdown",
   "id": "9f530faa-93f6-4b66-8e30-59fa4a5c4a52",
   "metadata": {},
   "source": [
    "# Data Science Tools and Ecosystem\n"
   ]
  },
  {
   "cell_type": "markdown",
   "id": "7ccb002b-30ae-4530-b248-fc7aee40501e",
   "metadata": {},
   "source": [
    "In this notebook, Data Science Tools and Ecosystem are summarized.\n"
   ]
  },
  {
   "cell_type": "markdown",
   "id": "ec301f43-7e19-4171-b40d-3d994322c343",
   "metadata": {},
   "source": [
    "Some of the popular languages that Data Scientists use are:\n",
    "1. Python\n",
    "2. R\n",
    "3. SQL\n",
    "4. Julia\n",
    "5. Scala\n"
   ]
  },
  {
   "cell_type": "markdown",
   "id": "14ead158-391e-49de-a7cc-aa9c296ebd48",
   "metadata": {},
   "source": [
    "Some of the commonly used libraries used by Data Scientists include:\n",
    "1. Pandas\n",
    "2. NumPy\n",
    "3. Scikit-learn\n",
    "4. TensorFlow\n",
    "5. Matplotlib\n"
   ]
  },
  {
   "cell_type": "markdown",
   "id": "a02b8435-4ea2-4ebc-865d-f316fae4b977",
   "metadata": {},
   "source": [
    "| Data Science Tools |\n",
    "|--------------------|\n",
    "| Jupyter Notebook  |\n",
    "| RStudio          |\n",
    "| Apache Zeppelin  |\n"
   ]
  },
  {
   "cell_type": "markdown",
   "id": "156906a6-b00c-4ac3-8ed1-fbd75a0ddf9f",
   "metadata": {},
   "source": [
    "### Below are a few examples of evaluating arithmetic expressions in Python.\n"
   ]
  },
  {
   "cell_type": "code",
   "execution_count": null,
   "id": "e19843bd-846f-48ff-b44f-dcaff28e9cd6",
   "metadata": {},
   "outputs": [],
   "source": [
    "# This is a simple arithmetic expression to multiply then add integers\n",
    "(3 * 4) + 5\n"
   ]
  },
  {
   "cell_type": "code",
   "execution_count": null,
   "id": "364616c9-923e-4350-b818-a1618f4e666e",
   "metadata": {},
   "outputs": [],
   "source": [
    "# This will convert 200 minutes to hours by dividing by 60\n",
    "200 / 60\n"
   ]
  },
  {
   "cell_type": "markdown",
   "id": "e2aba61d-dd2b-4055-b40e-2c3980a90b56",
   "metadata": {},
   "source": [
    "**Objectives:**\n",
    "- List popular languages for Data Science\n",
    "- Identify commonly used libraries in Data Science\n",
    "- Explore open-source Data Science tools\n",
    "- Perform basic arithmetic operations in Python\n",
    "- Convert time from minutes to hours\n"
   ]
  },
  {
   "cell_type": "markdown",
   "id": "ecb7747c-b938-475e-8879-61f519bb8a6b",
   "metadata": {},
   "source": [
    "## Author\n",
    "Ameenuddin Baig\n"
   ]
  },
  {
   "cell_type": "code",
   "execution_count": null,
   "id": "6ad13ad3-2ea2-4510-9cb0-0c2d9d4b8ad1",
   "metadata": {},
   "outputs": [],
   "source": []
  }
 ],
 "metadata": {
  "kernelspec": {
   "display_name": "Python 3 (ipykernel)",
   "language": "python",
   "name": "python3"
  },
  "language_info": {
   "codemirror_mode": {
    "name": "ipython",
    "version": 3
   },
   "file_extension": ".py",
   "mimetype": "text/x-python",
   "name": "python",
   "nbconvert_exporter": "python",
   "pygments_lexer": "ipython3",
   "version": "3.12.8"
  }
 },
 "nbformat": 4,
 "nbformat_minor": 5
}
